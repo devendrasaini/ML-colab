{
  "nbformat": 4,
  "nbformat_minor": 0,
  "metadata": {
    "colab": {
      "name": "SVM.ipynb",
      "version": "0.3.2",
      "provenance": [],
      "collapsed_sections": [],
      "include_colab_link": true
    },
    "kernelspec": {
      "name": "python3",
      "display_name": "Python 3"
    }
  },
  "cells": [
    {
      "cell_type": "markdown",
      "metadata": {
        "id": "view-in-github",
        "colab_type": "text"
      },
      "source": [
        "<a href=\"https://colab.research.google.com/github/devendrasaini/ML-colab/blob/master/SVM.ipynb\" target=\"_parent\"><img src=\"https://colab.research.google.com/assets/colab-badge.svg\" alt=\"Open In Colab\"/></a>"
      ]
    },
    {
      "cell_type": "code",
      "metadata": {
        "id": "8O7YfHZzLQvw",
        "colab_type": "code",
        "colab": {}
      },
      "source": [
        "from sklearn.datasets import load_digits"
      ],
      "execution_count": 0,
      "outputs": []
    },
    {
      "cell_type": "code",
      "metadata": {
        "id": "I2iB6WdoMFnD",
        "colab_type": "code",
        "colab": {}
      },
      "source": [
        "#loading dogit data\n",
        "digit=load_digits()"
      ],
      "execution_count": 0,
      "outputs": []
    },
    {
      "cell_type": "code",
      "metadata": {
        "id": "MbquBcsZMNkr",
        "colab_type": "code",
        "colab": {}
      },
      "source": [
        "features=digit.data"
      ],
      "execution_count": 0,
      "outputs": []
    },
    {
      "cell_type": "code",
      "metadata": {
        "id": "XxIWnAvMMXUq",
        "colab_type": "code",
        "colab": {}
      },
      "source": [
        "label=digit.target"
      ],
      "execution_count": 0,
      "outputs": []
    },
    {
      "cell_type": "code",
      "metadata": {
        "id": "3qU8Dp6QMaqE",
        "colab_type": "code",
        "colab": {}
      },
      "source": [
        "from sklearn.model_selection import train_test_split"
      ],
      "execution_count": 0,
      "outputs": []
    },
    {
      "cell_type": "code",
      "metadata": {
        "id": "sDx_CIMAMkon",
        "colab_type": "code",
        "colab": {}
      },
      "source": [
        "X,x,Y,y=train_test_split(features,label,test_size=0.2)"
      ],
      "execution_count": 0,
      "outputs": []
    },
    {
      "cell_type": "code",
      "metadata": {
        "id": "rkALBdJ2MuUb",
        "colab_type": "code",
        "colab": {}
      },
      "source": [
        "import matplotlib.pyplot as plt"
      ],
      "execution_count": 0,
      "outputs": []
    },
    {
      "cell_type": "code",
      "metadata": {
        "id": "H36LRrPfNBO1",
        "colab_type": "code",
        "outputId": "adab592d-8808-4c87-c54b-ed8c8011d81b",
        "colab": {
          "base_uri": "https://localhost:8080/",
          "height": 286
        }
      },
      "source": [
        "plt.imshow(digit.images[6])"
      ],
      "execution_count": 0,
      "outputs": [
        {
          "output_type": "execute_result",
          "data": {
            "text/plain": [
              "<matplotlib.image.AxesImage at 0x7f459634b320>"
            ]
          },
          "metadata": {
            "tags": []
          },
          "execution_count": 14
        },
        {
          "output_type": "display_data",
          "data": {
            "image/png": "[encoded data removed]",
            "text/plain": [
              "<Figure size 432x288 with 1 Axes>"
            ]
          },
          "metadata": {
            "tags": []
          }
        }
      ]
    },
    {
      "cell_type": "code",
      "metadata": {
        "id": "OMzwUQ8-NHPC",
        "colab_type": "code",
        "colab": {}
      },
      "source": [
        "#calling SVC\n",
        "from sklearn.svm import SVC"
      ],
      "execution_count": 0,
      "outputs": []
    },
    {
      "cell_type": "code",
      "metadata": {
        "id": "yRP79u0fNfmv",
        "colab_type": "code",
        "colab": {}
      },
      "source": [
        "clf=SVC()"
      ],
      "execution_count": 0,
      "outputs": []
    },
    {
      "cell_type": "code",
      "metadata": {
        "id": "KbyvPwvxO-Ha",
        "colab_type": "code",
        "outputId": "25c67dfa-6d24-401e-8aa9-9736dcac3ff0",
        "colab": {
          "base_uri": "https://localhost:8080/",
          "height": 70
        }
      },
      "source": [
        "trained=clf.fit(X,Y)"
      ],
      "execution_count": 0,
      "outputs": [
        {
          "output_type": "stream",
          "text": [
            "/usr/local/lib/python3.6/dist-packages/sklearn/svm/base.py:193: FutureWarning: The default value of gamma will change from 'auto' to 'scale' in version 0.22 to account better for unscaled features. Set gamma explicitly to 'auto' or 'scale' to avoid this warning.\n",
            "  \"avoid this warning.\", FutureWarning)\n"
          ],
          "name": "stderr"
        }
      ]
    },
    {
      "cell_type": "code",
      "metadata": {
        "id": "sTaCsuTNPDll",
        "colab_type": "code",
        "colab": {}
      },
      "source": [
        "predict=trained.predict(x)"
      ],
      "execution_count": 0,
      "outputs": []
    },
    {
      "cell_type": "code",
      "metadata": {
        "id": "RC-sbQ-nPOUn",
        "colab_type": "code",
        "outputId": "893e1f84-99b1-4d7b-de63-345cef1295a8",
        "colab": {
          "base_uri": "https://localhost:8080/",
          "height": 302
        }
      },
      "source": [
        "predict"
      ],
      "execution_count": 0,
      "outputs": [
        {
          "output_type": "execute_result",
          "data": {
            "text/plain": [
              "array([2, 2, 2, 2, 4, 6, 1, 2, 7, 2, 2, 2, 2, 2, 2, 2, 4, 2, 2, 2, 2, 2,\n",
              "       2, 2, 2, 2, 4, 2, 2, 0, 2, 2, 2, 2, 2, 2, 2, 9, 2, 2, 2, 2, 2, 2,\n",
              "       2, 2, 2, 2, 2, 2, 3, 2, 2, 2, 1, 1, 2, 2, 9, 3, 2, 2, 2, 6, 2, 2,\n",
              "       2, 4, 2, 2, 2, 2, 2, 5, 2, 2, 6, 2, 2, 2, 0, 2, 2, 2, 2, 0, 2, 2,\n",
              "       2, 2, 2, 2, 2, 2, 2, 1, 2, 2, 2, 6, 2, 2, 7, 5, 2, 2, 7, 9, 2, 4,\n",
              "       4, 0, 2, 2, 2, 2, 2, 2, 2, 7, 2, 2, 2, 2, 2, 2, 2, 2, 2, 2, 2, 2,\n",
              "       2, 2, 2, 2, 2, 6, 2, 2, 2, 2, 2, 2, 2, 2, 2, 2, 6, 2, 2, 2, 2, 6,\n",
              "       2, 2, 2, 2, 4, 2, 2, 2, 2, 6, 5, 2, 2, 2, 2, 0, 2, 2, 6, 2, 2, 2,\n",
              "       0, 2, 2, 2, 2, 4, 0, 1, 2, 3, 2, 2, 2, 2, 2, 2, 0, 2, 2, 0, 2, 2,\n",
              "       2, 4, 2, 3, 2, 2, 2, 6, 2, 0, 2, 2, 8, 2, 1, 2, 2, 2, 2, 4, 0, 2,\n",
              "       2, 2, 6, 1, 2, 2, 2, 9, 2, 2, 2, 2, 1, 6, 2, 2, 2, 2, 2, 2, 2, 3,\n",
              "       2, 1, 2, 2, 2, 7, 4, 2, 2, 2, 2, 4, 2, 0, 5, 2, 2, 2, 2, 2, 5, 2,\n",
              "       2, 4, 2, 2, 2, 2, 4, 9, 6, 2, 2, 2, 2, 1, 2, 6, 7, 2, 2, 0, 2, 7,\n",
              "       2, 6, 6, 2, 2, 2, 6, 2, 0, 5, 2, 2, 6, 2, 2, 2, 2, 2, 2, 4, 2, 2,\n",
              "       2, 2, 2, 2, 6, 2, 2, 2, 1, 2, 2, 2, 2, 7, 2, 2, 2, 2, 2, 2, 4, 0,\n",
              "       2, 2, 2, 7, 2, 2, 2, 2, 2, 2, 2, 2, 2, 2, 2, 6, 2, 6, 2, 2, 2, 2,\n",
              "       2, 7, 0, 2, 2, 2, 2, 1])"
            ]
          },
          "metadata": {
            "tags": []
          },
          "execution_count": 18
        }
      ]
    },
    {
      "cell_type": "code",
      "metadata": {
        "id": "OWK7GewdPPbN",
        "colab_type": "code",
        "outputId": "fb0d450a-2936-48bd-8c8e-724b5166c8f5",
        "colab": {
          "base_uri": "https://localhost:8080/",
          "height": 302
        }
      },
      "source": [
        "y\n"
      ],
      "execution_count": 0,
      "outputs": [
        {
          "output_type": "execute_result",
          "data": {
            "text/plain": [
              "array([3, 9, 3, 9, 4, 6, 1, 8, 7, 9, 3, 8, 5, 1, 3, 2, 4, 3, 0, 9, 0, 2,\n",
              "       7, 5, 8, 4, 4, 4, 4, 0, 3, 9, 4, 8, 5, 8, 3, 9, 9, 9, 3, 7, 3, 3,\n",
              "       7, 8, 1, 7, 8, 3, 3, 9, 2, 9, 1, 1, 3, 9, 9, 3, 2, 5, 3, 6, 1, 6,\n",
              "       5, 4, 5, 7, 8, 8, 1, 5, 3, 3, 6, 7, 7, 9, 0, 5, 5, 2, 9, 0, 9, 3,\n",
              "       8, 3, 7, 9, 8, 8, 8, 1, 7, 2, 5, 6, 5, 1, 7, 5, 3, 0, 7, 9, 9, 4,\n",
              "       4, 0, 4, 9, 8, 7, 5, 9, 7, 7, 9, 0, 6, 3, 6, 9, 7, 9, 3, 3, 3, 7,\n",
              "       3, 4, 8, 7, 1, 6, 9, 4, 0, 9, 8, 4, 2, 8, 7, 2, 6, 6, 3, 9, 2, 6,\n",
              "       4, 7, 3, 0, 4, 7, 0, 8, 5, 6, 5, 3, 1, 9, 8, 0, 2, 5, 6, 4, 6, 9,\n",
              "       0, 5, 8, 5, 2, 4, 0, 1, 5, 3, 0, 5, 7, 0, 4, 8, 0, 5, 8, 0, 2, 3,\n",
              "       9, 4, 5, 3, 3, 8, 3, 6, 3, 0, 7, 8, 8, 3, 1, 0, 6, 3, 6, 4, 0, 3,\n",
              "       5, 7, 6, 1, 1, 8, 9, 9, 5, 7, 8, 6, 1, 6, 0, 4, 3, 6, 4, 5, 2, 3,\n",
              "       5, 1, 5, 0, 3, 7, 4, 1, 6, 5, 8, 4, 6, 0, 5, 8, 1, 2, 1, 7, 5, 9,\n",
              "       5, 4, 9, 7, 9, 0, 4, 9, 6, 8, 7, 3, 5, 1, 0, 6, 7, 9, 2, 0, 4, 7,\n",
              "       9, 6, 6, 8, 7, 9, 6, 5, 0, 5, 1, 5, 6, 3, 2, 5, 8, 0, 4, 4, 7, 1,\n",
              "       8, 6, 9, 8, 6, 1, 3, 2, 1, 5, 7, 8, 3, 7, 4, 0, 3, 9, 4, 9, 4, 0,\n",
              "       5, 2, 6, 7, 7, 0, 5, 8, 4, 2, 7, 5, 7, 5, 3, 6, 4, 6, 6, 7, 2, 0,\n",
              "       9, 7, 0, 0, 8, 8, 6, 1])"
            ]
          },
          "metadata": {
            "tags": []
          },
          "execution_count": 19
        }
      ]
    },
    {
      "cell_type": "code",
      "metadata": {
        "id": "5Ws6ujgYPZXG",
        "colab_type": "code",
        "colab": {}
      },
      "source": [
        "from sklearn.metrics import accuracy_score\n"
      ],
      "execution_count": 0,
      "outputs": []
    },
    {
      "cell_type": "code",
      "metadata": {
        "id": "ZaV0u1WePhur",
        "colab_type": "code",
        "colab": {}
      },
      "source": [
        "acc=accuracy_score(predict,y)"
      ],
      "execution_count": 0,
      "outputs": []
    },
    {
      "cell_type": "code",
      "metadata": {
        "id": "k0MatrsGPrYV",
        "colab_type": "code",
        "outputId": "60da9e76-bcc5-46ae-b0d8-ff743f4867c1",
        "colab": {
          "base_uri": "https://localhost:8080/",
          "height": 34
        }
      },
      "source": [
        "acc"
      ],
      "execution_count": 0,
      "outputs": [
        {
          "output_type": "execute_result",
          "data": {
            "text/plain": [
              "0.3111111111111111"
            ]
          },
          "metadata": {
            "tags": []
          },
          "execution_count": 24
        }
      ]
    },
    {
      "cell_type": "code",
      "metadata": {
        "id": "urQFRiGJPw1J",
        "colab_type": "code",
        "colab": {}
      },
      "source": [
        ""
      ],
      "execution_count": 0,
      "outputs": []
    },
    {
      "cell_type": "code",
      "metadata": {
        "id": "MOoM6QIQVo8Z",
        "colab_type": "code",
        "colab": {}
      },
      "source": [
        ""
      ],
      "execution_count": 0,
      "outputs": []
    },
    {
      "cell_type": "code",
      "metadata": {
        "id": "6K0JbjyXVrHL",
        "colab_type": "code",
        "colab": {}
      },
      "source": [
        ""
      ],
      "execution_count": 0,
      "outputs": []
    }
  ]
}