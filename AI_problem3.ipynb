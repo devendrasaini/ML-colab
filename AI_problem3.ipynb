{
  "nbformat": 4,
  "nbformat_minor": 0,
  "metadata": {
    "colab": {
      "name": "AI-problem3.ipynb",
      "version": "0.3.2",
      "provenance": [],
      "collapsed_sections": [],
      "include_colab_link": true
    },
    "kernelspec": {
      "name": "python3",
      "display_name": "Python 3"
    }
  },
  "cells": [
    {
      "cell_type": "markdown",
      "metadata": {
        "id": "view-in-github",
        "colab_type": "text"
      },
      "source": [
        "<a href=\"https://colab.research.google.com/github/devendrasaini/ML-colab/blob/master/AI_problem3.ipynb\" target=\"_parent\"><img src=\"https://colab.research.google.com/assets/colab-badge.svg\" alt=\"Open In Colab\"/></a>"
      ]
    },
    {
      "cell_type": "code",
      "metadata": {
        "id": "TFkDkY-qb6i3",
        "colab_type": "code",
        "colab": {}
      },
      "source": [
        "import matplotlib.pyplot as plt\n",
        "import pandas as pd"
      ],
      "execution_count": 0,
      "outputs": []
    },
    {
      "cell_type": "code",
      "metadata": {
        "id": "59c-Y1yCb-a6",
        "colab_type": "code",
        "colab": {}
      },
      "source": [
        "df=pd.read_csv('student.csv')\n"
      ],
      "execution_count": 0,
      "outputs": []
    },
    {
      "cell_type": "code",
      "metadata": {
        "id": "po0T-dfneNv4",
        "colab_type": "code",
        "colab": {
          "base_uri": "https://localhost:8080/",
          "height": 166
        },
        "outputId": "037bbf7c-c54f-4457-cf74-ec76cb8cd9b1"
      },
      "source": [
        "df\n"
      ],
      "execution_count": 5,
      "outputs": [
        {
          "output_type": "execute_result",
          "data": {
            "text/html": [
              "<div>\n",
              "<style scoped>\n",
              "    .dataframe tbody tr th:only-of-type {\n",
              "        vertical-align: middle;\n",
              "    }\n",
              "\n",
              "    .dataframe tbody tr th {\n",
              "        vertical-align: top;\n",
              "    }\n",
              "\n",
              "    .dataframe thead th {\n",
              "        text-align: right;\n",
              "    }\n",
              "</style>\n",
              "<table border=\"1\" class=\"dataframe\">\n",
              "  <thead>\n",
              "    <tr style=\"text-align: right;\">\n",
              "      <th></th>\n",
              "      <th>student_name</th>\n",
              "      <th>marks</th>\n",
              "      <th>age</th>\n",
              "      <th>contact</th>\n",
              "      <th>study_hours</th>\n",
              "    </tr>\n",
              "  </thead>\n",
              "  <tbody>\n",
              "    <tr>\n",
              "      <th>0</th>\n",
              "      <td>chirag</td>\n",
              "      <td>72</td>\n",
              "      <td>18</td>\n",
              "      <td>9856479745</td>\n",
              "      <td>8</td>\n",
              "    </tr>\n",
              "    <tr>\n",
              "      <th>1</th>\n",
              "      <td>uncle</td>\n",
              "      <td>78</td>\n",
              "      <td>20</td>\n",
              "      <td>8974617968</td>\n",
              "      <td>9</td>\n",
              "    </tr>\n",
              "    <tr>\n",
              "      <th>2</th>\n",
              "      <td>reddeepu</td>\n",
              "      <td>99</td>\n",
              "      <td>19</td>\n",
              "      <td>897461257</td>\n",
              "      <td>12</td>\n",
              "    </tr>\n",
              "    <tr>\n",
              "      <th>3</th>\n",
              "      <td>ani</td>\n",
              "      <td>92</td>\n",
              "      <td>19</td>\n",
              "      <td>8971236545</td>\n",
              "      <td>11</td>\n",
              "    </tr>\n",
              "  </tbody>\n",
              "</table>\n",
              "</div>"
            ],
            "text/plain": [
              "   student_name    marks    age     contact    study_hours\n",
              "0         chirag       72     18  9856479745             8\n",
              "1          uncle       78     20  8974617968             9\n",
              "2       reddeepu       99     19   897461257            12\n",
              "3            ani       92     19  8971236545            11"
            ]
          },
          "metadata": {
            "tags": []
          },
          "execution_count": 5
        }
      ]
    },
    {
      "cell_type": "code",
      "metadata": {
        "id": "F5Y28g3_ePTX",
        "colab_type": "code",
        "colab": {
          "base_uri": "https://localhost:8080/",
          "height": 457
        },
        "outputId": "18cb7261-7ccf-4083-f89c-e04bcb38a57a"
      },
      "source": [
        "plt.pie(df.iloc[0:,1 ],labels=df.iloc[0:,0  ],autopct='%1.1f%%',shadow=True)"
      ],
      "execution_count": 7,
      "outputs": [
        {
          "output_type": "execute_result",
          "data": {
            "text/plain": [
              "([<matplotlib.patches.Wedge at 0x7ff569682470>,\n",
              "  <matplotlib.patches.Wedge at 0x7ff569682e48>,\n",
              "  <matplotlib.patches.Wedge at 0x7ff56968d828>,\n",
              "  <matplotlib.patches.Wedge at 0x7ff569696208>],\n",
              " [Text(0.8667424843466796, 0.6773163705599815, ' chirag'),\n",
              "  Text(-0.5025473731777476, 0.9784917668085644, ' uncle'),\n",
              "  Text(-0.946661402953316, -0.560207272496939, ' reddeepu'),\n",
              "  Text(0.7279750721639788, -0.8246528325955415, ' ani')],\n",
              " [Text(0.47276862782546153, 0.3694452930327171, '21.1%'),\n",
              "  Text(-0.2741167490060441, 0.5337227818955805, '22.9%'),\n",
              "  Text(-0.5163607652472633, -0.30556760318014853, '29.0%'),\n",
              "  Text(0.39707731208944297, -0.44981063596120435, '27.0%')])"
            ]
          },
          "metadata": {
            "tags": []
          },
          "execution_count": 7
        },
        {
          "output_type": "display_data",
          "data": {
            "image/png": "[encoded data removed]",
            "text/plain": [
              "<Figure size 432x288 with 1 Axes>"
            ]
          },
          "metadata": {
            "tags": []
          }
        }
      ]
    },
    {
      "cell_type": "code",
      "metadata": {
        "id": "-EtTaGoIfoBE",
        "colab_type": "code",
        "colab": {}
      },
      "source": [
        ""
      ],
      "execution_count": 0,
      "outputs": []
    }
  ]
}