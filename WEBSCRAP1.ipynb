{
  "nbformat": 4,
  "nbformat_minor": 0,
  "metadata": {
    "colab": {
      "name": "WEBSCRAP1.ipynb",
      "version": "0.3.2",
      "provenance": [],
      "collapsed_sections": [],
      "include_colab_link": true
    },
    "kernelspec": {
      "name": "python3",
      "display_name": "Python 3"
    }
  },
  "cells": [
    {
      "cell_type": "markdown",
      "metadata": {
        "id": "view-in-github",
        "colab_type": "text"
      },
      "source": [
        "<a href=\"https://colab.research.google.com/github/devendrasaini/ML-colab/blob/master/WEBSCRAP1.ipynb\" target=\"_parent\"><img src=\"https://colab.research.google.com/assets/colab-badge.svg\" alt=\"Open In Colab\"/></a>"
      ]
    },
    {
      "cell_type": "code",
      "metadata": {
        "id": "cjbjWUQ39V1b",
        "colab_type": "code",
        "colab": {}
      },
      "source": [
        ""
      ],
      "execution_count": 0,
      "outputs": []
    },
    {
      "cell_type": "code",
      "metadata": {
        "id": "3uY_vpX-DnC-",
        "colab_type": "code",
        "colab": {}
      },
      "source": [
        "import requests \n",
        "from bs4 import BeautifulSoup as soup\n",
        "import nltk\n",
        "nltk.download('punkt')\n",
        "nltk.download('stopwords')\n"
      ],
      "execution_count": 0,
      "outputs": []
    },
    {
      "cell_type": "code",
      "metadata": {
        "id": "Xk2HWr9yDuu8",
        "colab_type": "code",
        "colab": {}
      },
      "source": [
        "webdata=requests.get('https://php.net/')\n",
        "#200 means url is okay\n",
        "#302 means url is redirected\n",
        "#404 url not found\n",
        "#505 server is not permitting for web scrapping\n"
      ],
      "execution_count": 0,
      "outputs": []
    },
    {
      "cell_type": "code",
      "metadata": {
        "id": "JxTxFzZvEPxA",
        "colab_type": "code",
        "colab": {}
      },
      "source": [
        "#now \n",
        "htmldata=webdata.text"
      ],
      "execution_count": 0,
      "outputs": []
    },
    {
      "cell_type": "code",
      "metadata": {
        "id": "WIn2GC7mGtlv",
        "colab_type": "code",
        "colab": {}
      },
      "source": [
        "unclesoup=soup(htmldata,'html5lib')"
      ],
      "execution_count": 0,
      "outputs": []
    },
    {
      "cell_type": "code",
      "metadata": {
        "id": "ycfwGDd7G82H",
        "colab_type": "code",
        "colab": {}
      },
      "source": [
        "clean_data=unclesoup.get_text()"
      ],
      "execution_count": 0,
      "outputs": []
    },
    {
      "cell_type": "code",
      "metadata": {
        "id": "oRj3DctyHOAG",
        "colab_type": "code",
        "colab": {}
      },
      "source": [
        "with open('mydata.txt',\"w+\") as f:\n",
        "  f.write(clean_data)"
      ],
      "execution_count": 0,
      "outputs": []
    },
    {
      "cell_type": "code",
      "metadata": {
        "id": "MuO3ALiBHQTb",
        "colab_type": "code",
        "colab": {}
      },
      "source": [
        "f=open('mydata.txt','r')\n",
        "mydata=f.read()\n",
        "f.close()"
      ],
      "execution_count": 0,
      "outputs": []
    },
    {
      "cell_type": "code",
      "metadata": {
        "id": "-S3Vf2lJIvDo",
        "colab_type": "code",
        "colab": {}
      },
      "source": [
        "#mydata.split()\n"
      ],
      "execution_count": 0,
      "outputs": []
    },
    {
      "cell_type": "code",
      "metadata": {
        "id": "lo4Lgb1ZIyLQ",
        "colab_type": "code",
        "colab": {}
      },
      "source": [
        "mydata1=[i for i in mydata.split()]"
      ],
      "execution_count": 0,
      "outputs": []
    }
  ]
}