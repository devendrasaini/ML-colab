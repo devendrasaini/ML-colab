{
  "nbformat": 4,
  "nbformat_minor": 0,
  "metadata": {
    "colab": {
      "name": "nlpexampledefi.ipynb",
      "version": "0.3.2",
      "provenance": [],
      "include_colab_link": true
    },
    "kernelspec": {
      "name": "python3",
      "display_name": "Python 3"
    }
  },
  "cells": [
    {
      "cell_type": "markdown",
      "metadata": {
        "id": "view-in-github",
        "colab_type": "text"
      },
      "source": [
        "<a href=\"https://colab.research.google.com/github/devendrasaini/ML-colab/blob/master/nlpexampledefi.ipynb\" target=\"_parent\"><img src=\"https://colab.research.google.com/assets/colab-badge.svg\" alt=\"Open In Colab\"/></a>"
      ]
    },
    {
      "cell_type": "code",
      "metadata": {
        "id": "wqcvwkmMhTO0",
        "colab_type": "code",
        "colab": {}
      },
      "source": [
        "from nltk.corpus  import wordnet\n",
        "import time"
      ],
      "execution_count": 0,
      "outputs": []
    },
    {
      "cell_type": "code",
      "metadata": {
        "id": "fHDmgKmThZg8",
        "colab_type": "code",
        "colab": {}
      },
      "source": [
        "ws=wordnet.synsets(\"work\")#lemma word"
      ],
      "execution_count": 0,
      "outputs": []
    },
    {
      "cell_type": "code",
      "metadata": {
        "id": "OPNlY5sFhf91",
        "colab_type": "code",
        "colab": {}
      },
      "source": [
        "len(ws)\n",
        "ws\n"
      ],
      "execution_count": 0,
      "outputs": []
    },
    {
      "cell_type": "code",
      "metadata": {
        "id": "008A63BZhhI5",
        "colab_type": "code",
        "outputId": "e4820eff-edc5-4d55-a392-51a4140e1570",
        "colab": {
          "base_uri": "https://localhost:8080/",
          "height": 34
        }
      },
      "source": [
        "ws[0].definition()"
      ],
      "execution_count": 0,
      "outputs": [
        {
          "output_type": "execute_result",
          "data": {
            "text/plain": [
              "'activity directed toward making or doing something'"
            ]
          },
          "metadata": {
            "tags": []
          },
          "execution_count": 7
        }
      ]
    },
    {
      "cell_type": "code",
      "metadata": {
        "id": "uxcNh4TXh0iq",
        "colab_type": "code",
        "outputId": "0123aa8e-fb61-4d9e-d3ce-7f85d8e736a7",
        "colab": {
          "base_uri": "https://localhost:8080/",
          "height": 34
        }
      },
      "source": [
        "ws[0].examples()"
      ],
      "execution_count": 0,
      "outputs": [
        {
          "output_type": "execute_result",
          "data": {
            "text/plain": [
              "['she checked several points needing further work']"
            ]
          },
          "metadata": {
            "tags": []
          },
          "execution_count": 10
        }
      ]
    },
    {
      "cell_type": "code",
      "metadata": {
        "id": "MoYRpNihiSg0",
        "colab_type": "code",
        "outputId": "5f540780-75e8-4823-ecb4-a25a18f5f5c4",
        "colab": {
          "base_uri": "https://localhost:8080/",
          "height": 101
        }
      },
      "source": [
        "msg=input(\"enter your key word you want to know about \")\n",
        "for i in wordnet.synsets(msg):\n",
        "  print(\"____________\")\n",
        "\n",
        "  print(i.definition())\n",
        "  print(\"____________\")\n",
        "  print(i.examples())\n",
        "  time.sleep(3)"
      ],
      "execution_count": 0,
      "outputs": [
        {
          "output_type": "stream",
          "text": [
            "enter your key word you want to know about transgender\n",
            "____________\n",
            "involving a partial or full reversal of gender\n",
            "____________\n",
            "[]\n"
          ],
          "name": "stdout"
        }
      ]
    },
    {
      "cell_type": "code",
      "metadata": {
        "id": "s_0GL6lgjMWs",
        "colab_type": "code",
        "colab": {}
      },
      "source": [
        ""
      ],
      "execution_count": 0,
      "outputs": []
    }
  ]
}