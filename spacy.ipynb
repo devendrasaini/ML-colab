{
  "nbformat": 4,
  "nbformat_minor": 0,
  "metadata": {
    "colab": {
      "name": "spacy.ipynb",
      "version": "0.3.2",
      "provenance": [],
      "collapsed_sections": [],
      "include_colab_link": true
    },
    "kernelspec": {
      "name": "python3",
      "display_name": "Python 3"
    }
  },
  "cells": [
    {
      "cell_type": "markdown",
      "metadata": {
        "id": "view-in-github",
        "colab_type": "text"
      },
      "source": [
        "<a href=\"https://colab.research.google.com/github/devendrasaini/ML-colab/blob/master/spacy.ipynb\" target=\"_parent\"><img src=\"https://colab.research.google.com/assets/colab-badge.svg\" alt=\"Open In Colab\"/></a>"
      ]
    },
    {
      "cell_type": "code",
      "metadata": {
        "id": "Z3HEDUhgeZHh",
        "colab_type": "code",
        "colab": {}
      },
      "source": [
        "import spacy"
      ],
      "execution_count": 0,
      "outputs": []
    },
    {
      "cell_type": "code",
      "metadata": {
        "id": "w0STxSFUebyp",
        "colab_type": "code",
        "colab": {}
      },
      "source": [
        "#language english\n",
        "nlp=spacy.load('en')"
      ],
      "execution_count": 0,
      "outputs": []
    },
    {
      "cell_type": "code",
      "metadata": {
        "id": "ERIsdRiEeljw",
        "colab_type": "code",
        "colab": {}
      },
      "source": [
        "data='''\n",
        "hello uncle what are you doing .hello my name is chirag im six mogra you can call me six.if you call me six then i get angry .\n",
        "fijrjfor\n",
        "\n",
        "\n",
        "\n",
        "\n",
        "'''"
      ],
      "execution_count": 0,
      "outputs": []
    },
    {
      "cell_type": "code",
      "metadata": {
        "id": "3b09WU7wfba5",
        "colab_type": "code",
        "colab": {}
      },
      "source": [
        "new_data=nlp(data)#automatic tokenize"
      ],
      "execution_count": 0,
      "outputs": []
    },
    {
      "cell_type": "code",
      "metadata": {
        "id": "GlIpytl0fkyA",
        "colab_type": "code",
        "outputId": "54c1839a-c2f9-43ff-d04a-d6d46e8b9d2c",
        "colab": {
          "base_uri": "https://localhost:8080/",
          "height": 739
        }
      },
      "source": [
        "for i in new_data:\n",
        " # print(i,\"lemm of words is ----> \",i.lemma_)\n",
        "  print(i,i.pos_)"
      ],
      "execution_count": 0,
      "outputs": [
        {
          "output_type": "stream",
          "text": [
            "\n",
            " SPACE\n",
            "hello INTJ\n",
            "uncle NOUN\n",
            "what PRON\n",
            "are VERB\n",
            "you PRON\n",
            "doing VERB\n",
            ".hello PUNCT\n",
            "my DET\n",
            "name NOUN\n",
            "is VERB\n",
            "chirag ADJ\n",
            "i PRON\n",
            "m VERB\n",
            "six NUM\n",
            "mogra NOUN\n",
            "you PRON\n",
            "can VERB\n",
            "call VERB\n",
            "me PRON\n",
            "six.if PUNCT\n",
            "you PRON\n",
            "call VERB\n",
            "me PRON\n",
            "six NUM\n",
            "then ADV\n",
            "i PRON\n",
            "get VERB\n",
            "angry ADJ\n",
            ".hdiejf PUNCT\n",
            "hfuohf NOUN\n",
            "euh NOUN\n",
            "hfe NOUN\n",
            "\n",
            " SPACE\n",
            "fijrjfor NOUN\n",
            "\n",
            "\n",
            "\n",
            "\n",
            "\n",
            " SPACE\n"
          ],
          "name": "stdout"
        }
      ]
    },
    {
      "cell_type": "code",
      "metadata": {
        "id": "O9JNxXS5f1Uk",
        "colab_type": "code",
        "colab": {}
      },
      "source": [
        ""
      ],
      "execution_count": 0,
      "outputs": []
    }
  ]
}